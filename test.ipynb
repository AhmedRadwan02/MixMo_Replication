{
 "cells": [
  {
   "cell_type": "code",
   "execution_count": null,
   "metadata": {},
   "outputs": [
    {
     "name": "stdout",
     "output_type": "stream",
     "text": [
      "Downloaded CIFAR-100-C to /Users/ahmed/.cache/kagglehub/datasets/ahmedyradwan02/cifar100-c/versions/1/CIFAR-100-C\n"
     ]
    }
   ],
   "source": [
    "import importlib\n",
    "import data_handler  # Ensure the module is imported\n",
    "importlib.reload(data_handler)  # Reload the module\n",
    "from data_handler import DataHandler  # Re-import the class\n",
    "\n",
    "\n",
    "data_handler = DataHandler()\n",
    "\n",
    "# Available corruptions for reference\n",
    "available_corruptions = [\n",
    "    'brightness', 'contrast', 'defocus_blur', 'elastic_transform',\n",
    "    'fog', 'frost', 'gaussian_blur', 'gaussian_noise', 'glass_blur',\n",
    "    'impulse_noise', 'jpeg_compression', 'motion_blur', 'pixelate',\n",
    "    'saturate', 'shot_noise', 'snow', 'spatter', 'speckle_noise', 'zoom_blur'\n",
    "]\n",
    "\n",
    "# Load gaussian_noise corruption with severity 3\n",
    "corruption_name = \"gaussian_noise\"\n",
    "cifar100c_loader = data_handler.get_cifar100c(\n",
    "    corruption_type=corruption_name,\n",
    "    batch_size=128,\n",
    "    severity=3  # Default is already 3, but specified for clarity\n",
    ")\n"
   ]
  },
  {
   "cell_type": "code",
   "execution_count": null,
   "metadata": {},
   "outputs": [],
   "source": []
  }
 ],
 "metadata": {
  "language_info": {
   "name": "python"
  }
 },
 "nbformat": 4,
 "nbformat_minor": 2
}
